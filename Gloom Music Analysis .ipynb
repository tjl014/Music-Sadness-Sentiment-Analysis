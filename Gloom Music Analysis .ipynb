{
 "cells": [
  {
   "cell_type": "code",
   "execution_count": 400,
   "metadata": {
    "collapsed": true
   },
   "outputs": [],
   "source": [
    "import spotipy\n",
    "import pandas as pd\n",
    "import spotipy.util as util\n",
    "import lyricsgenius\n",
    "import numpy as np\n",
    "client_id = '***'\n",
    "client_secret = '***'\n",
    "redirect_uri = '***'\n",
    "scope = 'user-top-read user-library-read'\n",
    "from nltk.sentiment.vader import SentimentIntensityAnalyzer\n",
    "genius = lyricsgenius.Genius(\"***\")\n",
    "sid = SentimentIntensityAnalyzer()"
   ]
  },
  {
   "cell_type": "code",
   "execution_count": 434,
   "metadata": {
    "collapsed": true
   },
   "outputs": [],
   "source": [
    "## Functions ##\n",
    "\n",
    "\n",
    "#scrapes all song features for a list of song IDs and returns dataframe\n",
    "def getSongFeatures(song_list):\n",
    "    df = pd.DataFrame({\n",
    "                    'song_uri' : [],\n",
    "                    'danceability' : [],\n",
    "                    'energy' : [],\n",
    "                    'key' : [],\n",
    "                    'loudness' : [],\n",
    "                    'mode' : [],\n",
    "                    'speechiness' : [],\n",
    "                    'acousticness' : [],\n",
    "                    'instrumentalness' : [],\n",
    "                    'valence' : [],\n",
    "                    'tempo' : []\n",
    "    })\n",
    "    \n",
    "    for index in range(0,len(song_list)):\n",
    "        features_list = sp.audio_features(song_list[index])[0]\n",
    "        track_info = sp.track(song_list[index])\n",
    "        try:\n",
    "            temp_df = pd.DataFrame({ \n",
    "                     'song_name' : track_info['name'],\n",
    "                     'album_name' : track_info['album']['name'],\n",
    "                     'song_uri' : (song_list[index]),\n",
    "                     'danceability' : (features_list['danceability']),\n",
    "                     'energy' : (features_list['energy']),\n",
    "                     'key' : (features_list['key']),\n",
    "                    'loudness' : (features_list['loudness']),\n",
    "                    'mode' : (features_list['mode']),\n",
    "                    'speechiness' : (features_list['speechiness']),\n",
    "                    'acousticness' : (features_list['acousticness']),\n",
    "                    'instrumentalness' : (features_list['instrumentalness']),\n",
    "                    'valence' : (features_list['valence']),\n",
    "                    'tempo' : (features_list['tempo']) },\n",
    "                    index = [0]\n",
    "            )   \n",
    "            df = pd.concat([df, temp_df])\n",
    "        except:\n",
    "            continue\n",
    "    return df\n",
    "\n",
    "#gets artist uri given text through spotipy\n",
    "def get_artist_uri(artist):\n",
    "    search_queue = sp.search(q = artist, type = \"artist\", limit = 10)\n",
    "    return(search_queue['artists']['items'][0]['id'])\n",
    "\n",
    "#gets list of all artist album IDs through spotipy\n",
    "def get_artist_album_list(artist_uri):\n",
    "    album_list = []\n",
    "    sp_album_list = sp.artist_albums(artist_id = artist_uri)\n",
    "    for album in sp_album_list['items']:\n",
    "        album_list.append(album['id'])\n",
    "    return album_list\n",
    "\n",
    "#gets list of all artist song IDs through spotipy\n",
    "def get_artist_song_list(album_list):\n",
    "    song_list = []\n",
    "    for album_id in album_list:\n",
    "        album_track_list = sp.album_tracks(album_id)['items']\n",
    "        for song in album_track_list:\n",
    "            song_list.append(song['id'])\n",
    "    return song_list\n",
    "\n",
    "#gets list of song lyrics for artist given list of song NAMES using genius package\n",
    "def get_song_lyric_list(artist_name, song_list):\n",
    "    lyric_list = []\n",
    "    for song in song_list:\n",
    "        temp = genius.search_song(song, artist_name)\n",
    "        try:\n",
    "            lyric_list.append(temp.lyrics)\n",
    "        except:\n",
    "            lyric_list.append('None Found')\n",
    "            continue\n",
    "    return lyric_list\n",
    "\n",
    "\n",
    "#returns proportion of lines that were classified as negative\n",
    "def polarity_ratio(lyrics):\n",
    "    lyrics_list = lyrics.splitlines()\n",
    "    count = 0\n",
    "    junk_lines = 0\n",
    "    for line in lyrics_list:\n",
    "        if any(ext in line for ext in ['Chorus', 'Verse']):\n",
    "            junk_lines = junk_lines + 1\n",
    "            continue\n",
    "        else:\n",
    "            if (sid.polarity_scores(line)['compound'] < 0):\n",
    "                count = count + 1\n",
    "    return(count / (len(lyrics_list) - junk_lines))\n",
    "\n",
    "def polarity_ratio_list(lyric_list):\n",
    "    polarity_list = []\n",
    "    for song_lyric in lyric_list:\n",
    "        polarity_list.append(polarity_ratio(song_lyric))\n",
    "    return polarity_list"
   ]
  },
  {
   "cell_type": "code",
   "execution_count": 428,
   "metadata": {
    "collapsed": true
   },
   "outputs": [],
   "source": [
    "token1 = util.prompt_for_user_token('timlee717', scope,\n",
    "                                  client_id = client_id,\n",
    "                                  client_secret  = client_secret,\n",
    "                                  redirect_uri = redirect_uri)\n",
    "sp = spotipy.Spotify(auth = token1)"
   ]
  },
  {
   "cell_type": "code",
   "execution_count": 458,
   "metadata": {
    "collapsed": true
   },
   "outputs": [],
   "source": [
    "joji_uri = get_artist_uri(\"Joji\")\n",
    "joji_album_list = get_artist_album_list(joji_uri)\n",
    "joji_song_list = get_artist_song_list(joji_album_list)\n",
    "joji_df = getSongFeatures(joji_song_list)                                   "
   ]
  },
  {
   "cell_type": "code",
   "execution_count": 459,
   "metadata": {},
   "outputs": [
    {
     "name": "stderr",
     "output_type": "stream",
     "text": [
      "/Library/Frameworks/Python.framework/Versions/3.6/lib/python3.6/site-packages/ipykernel_launcher.py:2: UserWarning: This pattern has match groups. To actually get the groups, use str.extract.\n",
      "  \n"
     ]
    }
   ],
   "source": [
    "#keeping only artist original songs\n",
    "joji_df = joji_df.loc[joji_df['album_name'].str.contains('BAL') | joji_df['album_name'].str.contains(\"In Tongues (Deluxe)\")]\n",
    "joji_df = joji_df.loc[~(joji_df['song_name'].str.contains(\"Remix\") | joji_df['song_name'].str.contains('remix'))]\n"
   ]
  },
  {
   "cell_type": "code",
   "execution_count": 460,
   "metadata": {},
   "outputs": [
    {
     "name": "stdout",
     "output_type": "stream",
     "text": [
      "Searching for \"ATTENTION\" by Joji...\n",
      "Done.\n",
      "Searching for \"SLOW DANCING IN THE DARK\" by Joji...\n",
      "Done.\n",
      "Searching for \"TEST DRIVE\" by Joji...\n",
      "Done.\n",
      "Searching for \"WANTED U\" by Joji...\n",
      "Done.\n",
      "Searching for \"CAN'T GET OVER YOU (feat. Clams Casino)\" by Joji...\n",
      "Done.\n",
      "Searching for \"YEAH RIGHT\" by Joji...\n",
      "Done.\n",
      "Searching for \"WHY AM I STILL IN LA (feat. Shlohmo & D33J)\" by Joji...\n",
      "Done.\n",
      "Searching for \"NO FUN\" by Joji...\n",
      "Done.\n",
      "Searching for \"COME THRU\" by Joji...\n",
      "Done.\n",
      "Searching for \"R.I.P. (feat. Trippie Redd)\" by Joji...\n",
      "Done.\n",
      "Searching for \"XNXX\" by Joji...\n",
      "Done.\n",
      "Searching for \"I'LL SEE YOU IN 40\" by Joji...\n",
      "Done.\n",
      "Searching for \"ATTENTION\" by Joji...\n",
      "Done.\n",
      "Searching for \"SLOW DANCING IN THE DARK\" by Joji...\n",
      "Done.\n",
      "Searching for \"TEST DRIVE\" by Joji...\n",
      "Done.\n",
      "Searching for \"WANTED U\" by Joji...\n",
      "Done.\n",
      "Searching for \"CAN'T GET OVER YOU (feat. Clams Casino)\" by Joji...\n",
      "Done.\n",
      "Searching for \"YEAH RIGHT\" by Joji...\n",
      "Done.\n",
      "Searching for \"WHY AM I STILL IN LA (feat. Shlohmo & D33J)\" by Joji...\n",
      "Done.\n",
      "Searching for \"NO FUN\" by Joji...\n",
      "Done.\n",
      "Searching for \"COME THRU\" by Joji...\n",
      "Done.\n",
      "Searching for \"R.I.P. (feat. Trippie Redd)\" by Joji...\n",
      "Done.\n",
      "Searching for \"XNXX\" by Joji...\n",
      "Done.\n",
      "Searching for \"I'LL SEE YOU IN 40\" by Joji...\n",
      "Done.\n",
      "Searching for \"Will He\" by Joji...\n",
      "Done.\n",
      "Searching for \"Pills\" by Joji...\n",
      "Done.\n",
      "Searching for \"Demons\" by Joji...\n",
      "Done.\n",
      "Searching for \"Window\" by Joji...\n",
      "Done.\n",
      "Searching for \"Bitter Fuck\" by Joji...\n",
      "Done.\n",
      "Searching for \"worldstar money - interlude\" by Joji...\n",
      "Done.\n",
      "Searching for \"Plastic Taste\" by Joji...\n",
      "Done.\n",
      "Searching for \"I Don't Wanna Waste My Time\" by Joji...\n",
      "Done.\n"
     ]
    }
   ],
   "source": [
    "joji_lyrics = get_song_lyric_list(\"Joji\", joji_df['song_name'])"
   ]
  },
  {
   "cell_type": "code",
   "execution_count": 461,
   "metadata": {
    "collapsed": true
   },
   "outputs": [],
   "source": [
    "joji_polarity = polarity_ratio_list(joji_lyrics)\n",
    "joji_df['lyric'] = joji_lyrics\n",
    "joji_df['Prop_of_neg_lines'] = joji_polarity\n",
    "joji_df['sad_score'] = (1 - joji_df['valence'] + joji_df['Prop_of_neg_lines']) / 2\n",
    "\n",
    "joji_df_group = joji_df.groupby(by = ['album_name','song_name'])['sad_score'].min().reset_index()\n",
    "joji_columns = joji_df[['album_name','song_name','song_uri']]\n",
    "joji_df_final = pd.merge(joji_df_group, joji_columns, on = ['album_name','song_name'], how = \"left\")\n",
    "joji_df_final = joji_df_final.drop_duplicates(subset = ['album_name','song_name','sad_score'], keep = \"first\")"
   ]
  },
  {
   "cell_type": "code",
   "execution_count": 146,
   "metadata": {
    "collapsed": true
   },
   "outputs": [],
   "source": [
    "jeremy_uri = get_artist_uri(\"Jeremy Zucker\")\n",
    "jeremy_album_list = get_artist_album_list(jeremy_uri)\n",
    "jeremy_song_list = get_artist_song_list(jeremy_album_list)\n",
    "jeremy_df = getSongFeatures(jeremy_song_list)"
   ]
  },
  {
   "cell_type": "code",
   "execution_count": 163,
   "metadata": {
    "collapsed": true
   },
   "outputs": [],
   "source": [
    "grouped_df = jeremy_df.groupby(by = ['album_name','song_name'])['valence'].min().reset_index()\n",
    "original_df = jeremy_df[['album_name', 'valence','song_uri','song_name']]\n",
    "jeremy_df_final = pd.merge(grouped_df,original_df,on = ['album_name','song_name','valence'], how = 'left')\n",
    "jeremy_df_final = jeremy_df_final.drop_duplicates(subset = ['album_name','song_name'], keep = 'first')\n",
    "jeremy_df_final = jeremy_df_final.loc[~jeremy_df_final['song_name'].str.contains('remix')]"
   ]
  },
  {
   "cell_type": "code",
   "execution_count": 281,
   "metadata": {},
   "outputs": [
    {
     "name": "stdout",
     "output_type": "stream",
     "text": [
      "Searching for \"Heavy\" by Jeremy Zucker...\n",
      "Done.\n",
      "Searching for \"Idk Love\" by Jeremy Zucker...\n",
      "Done.\n",
      "Searching for \"Keep My Head Afloat\" by Jeremy Zucker...\n",
      "Done.\n",
      "Searching for \"Man Down\" by Jeremy Zucker...\n",
      "Done.\n",
      "Searching for \"Shut Your Mouth\" by Jeremy Zucker...\n",
      "Done.\n",
      "Searching for \"Sinking\" by Jeremy Zucker...\n",
      "Done.\n",
      "Searching for \"Stay Quiet\" by Jeremy Zucker...\n",
      "Done.\n",
      "Searching for \"Upside Down\" by Jeremy Zucker...\n",
      "Done.\n",
      "Searching for \"Paradise (feat. Cisco the Nomad)\" by Jeremy Zucker...\n",
      "Done.\n",
      "Searching for \"Peace Signs\" by Jeremy Zucker...\n",
      "Done.\n",
      "Searching for \"Spin With You (feat. Jeremy Zucker)\" by Jeremy Zucker...\n",
      "Done.\n",
      "Searching for \"Upside Down (feat. Daniel James)\" by Jeremy Zucker...\n",
      "Done.\n",
      "Searching for \"Weakness\" by Jeremy Zucker...\n",
      "Done.\n",
      "Searching for \"When You Wake up...\" by Jeremy Zucker...\n",
      "Done.\n",
      "Searching for \"hello old friend\" by Jeremy Zucker...\n",
      "Done.\n",
      "Searching for \"please\" by Jeremy Zucker...\n",
      "Done.\n",
      "Searching for \"scared\" by Jeremy Zucker...\n",
      "Done.\n",
      "Searching for \"sometimes\" by Jeremy Zucker...\n",
      "Done.\n",
      "Searching for \"you were good to me\" by Jeremy Zucker...\n",
      "Done.\n",
      "Searching for \"comethru (with Bea Miller)\" by Jeremy Zucker...\n",
      "Done.\n",
      "Searching for \"all the kids are depressed\" by Jeremy Zucker...\n",
      "Done.\n",
      "Searching for \"better off\" by Jeremy Zucker...\n",
      "Done.\n",
      "Searching for \"glisten (interlude)\" by Jeremy Zucker...\n",
      "Done.\n",
      "Searching for \"wildfire\" by Jeremy Zucker...\n",
      "Done.\n",
      "Searching for \"99.9\" by Jeremy Zucker...\n",
      "Done.\n",
      "Searching for \"end\" by Jeremy Zucker...\n",
      "Done.\n",
      "Searching for \"ghosts\" by Jeremy Zucker...\n",
      "Done.\n",
      "Searching for \"talk is overrated\" by Jeremy Zucker...\n",
      "Done.\n",
      "Searching for \"circles (stripped.)\" by Jeremy Zucker...\n",
      "Done.\n",
      "Searching for \"end (stripped.)\" by Jeremy Zucker...\n",
      "Done.\n",
      "Searching for \"every day (stripped.)\" by Jeremy Zucker...\n",
      "Done.\n",
      "Searching for \"keep my head afloat (stripped.)\" by Jeremy Zucker...\n",
      "Done.\n",
      "Searching for \"talk is overrated (stripped.)\" by Jeremy Zucker...\n",
      "Done.\n",
      "Searching for \"comethru\" by Jeremy Zucker...\n",
      "Done.\n",
      "Searching for \"desire\" by Jeremy Zucker...\n",
      "Done.\n",
      "Searching for \"firefly\" by Jeremy Zucker...\n",
      "Done.\n",
      "Searching for \"selfish\" by Jeremy Zucker...\n",
      "Done.\n",
      "Searching for \"thinking 2 much\" by Jeremy Zucker...\n",
      "Done.\n",
      "Searching for \"you were good to me\" by Jeremy Zucker...\n",
      "Done.\n",
      "Searching for \"Spin With You\" by Jeremy Zucker...\n",
      "Done.\n",
      "Searching for \"come thru\" by Jeremy Zucker...\n",
      "Done.\n"
     ]
    }
   ],
   "source": [
    "jeremy_lyrics = get_song_lyric_list(\"Jeremy Zucker\", jeremy_df_final['song_name'])\n",
    "jeremy_lyrics[10] = genius.search_song(\"Spin With You\", \"Jeremy Zucker\").lyrics\n",
    "jeremy_lyrics[19] = genius.search_song(\"come thru\", \"Jeremy Zucker\").lyrics\n"
   ]
  },
  {
   "cell_type": "code",
   "execution_count": 284,
   "metadata": {
    "collapsed": true
   },
   "outputs": [],
   "source": [
    "jeremy_polarity = polarity_ratio_list(jeremy_lyrics)\n",
    "jeremy_df_final['lyric'] = jeremy_lyrics\n",
    "jeremy_df_final['Prop_of_neg_lines'] = jeremy_polarity\n",
    "jeremy_df_final['sad_score'] = (1-jeremy_df_final['valence'] + jeremy_df_final['Prop_of_neg_lines']) / 2"
   ]
  },
  {
   "cell_type": "code",
   "execution_count": null,
   "metadata": {
    "collapsed": true
   },
   "outputs": [],
   "source": [
    "jeremy_df_final"
   ]
  },
  {
   "cell_type": "code",
   "execution_count": 296,
   "metadata": {
    "collapsed": true
   },
   "outputs": [],
   "source": [
    "billie_uri = get_artist_uri(\"Billie Eilish\")\n",
    "billie_album_list = get_artist_album_list(billie_uri)\n",
    "billie_song_list = get_artist_song_list(billie_album_list)\n",
    "billie_df = getSongFeatures(billie_song_list)"
   ]
  },
  {
   "cell_type": "code",
   "execution_count": 306,
   "metadata": {
    "collapsed": true
   },
   "outputs": [],
   "source": [
    "billie_df = billie_df.loc[~billie_df['album_name'].str.contains('NOW')]\n",
    "billie_df = billie_df.loc[~billie_df['album_name'].str.contains('Fama')]\n",
    "billie_df = billie_df.loc[~billie_df['album_name'].str.contains('Top')]\n",
    "billie_df = billie_df.loc[~billie_df['album_name'].str.contains('Remix')]\n",
    "billie_df = billie_df.loc[~billie_df['album_name'].str.contains('Edition')]"
   ]
  },
  {
   "cell_type": "code",
   "execution_count": 311,
   "metadata": {
    "collapsed": true
   },
   "outputs": [],
   "source": [
    "billie_df_grouped = billie_df.groupby(by = ['album_name', 'song_name'])['valence'].min().reset_index()\n",
    "billie_df_columns = billie_df[['album_name','song_uri','song_name','valence']]\n",
    "billie_df_final = pd.merge(billie_df_grouped, billie_df_columns, on = ['album_name','song_name','valence'], how = 'left')"
   ]
  },
  {
   "cell_type": "code",
   "execution_count": 313,
   "metadata": {
    "collapsed": true
   },
   "outputs": [],
   "source": [
    "billie_df_final = billie_df_final.drop_duplicates(subset=['album_name','song_name','valence'], keep = 'first')"
   ]
  },
  {
   "cell_type": "code",
   "execution_count": 356,
   "metadata": {},
   "outputs": [
    {
     "name": "stdout",
     "output_type": "stream",
     "text": [
      "Searching for \"&burn (with Vince Staples)\" by Billie Eilish...\n",
      "Done.\n",
      "Searching for \"bellyache\" by Billie Eilish...\n",
      "Done.\n",
      "Searching for \"Bored\" by Billie Eilish...\n",
      "Done.\n",
      "Searching for \"ocean eyes\" by Billie Eilish...\n",
      "Done.\n",
      "Searching for \"Six Feet Under\" by Billie Eilish...\n",
      "Done.\n",
      "Searching for \"WHEN I WAS OLDER - Music Inspired By The Film ROMA\" by Billie Eilish...\n",
      "Done.\n",
      "Searching for \"!!!!!!!\" by Billie Eilish...\n",
      "Done.\n",
      "Searching for \"8\" by Billie Eilish...\n",
      "Done.\n",
      "Searching for \"all the good girls go to hell\" by Billie Eilish...\n",
      "Done.\n",
      "Searching for \"bad guy\" by Billie Eilish...\n",
      "Done.\n",
      "Searching for \"bury a friend\" by Billie Eilish...\n",
      "Done.\n",
      "Searching for \"goodbye\" by Billie Eilish...\n",
      "Done.\n",
      "Searching for \"i love you\" by Billie Eilish...\n",
      "Done.\n",
      "Searching for \"ilomilo\" by Billie Eilish...\n",
      "Done.\n",
      "Searching for \"listen before i go\" by Billie Eilish...\n",
      "Done.\n",
      "Searching for \"my strange addiction\" by Billie Eilish...\n",
      "Done.\n",
      "Searching for \"when the party's over\" by Billie Eilish...\n",
      "Done.\n",
      "Searching for \"wish you were gay\" by Billie Eilish...\n",
      "Done.\n",
      "Searching for \"xanny\" by Billie Eilish...\n",
      "Done.\n",
      "Searching for \"you should see me in a crown\" by Billie Eilish...\n",
      "Done.\n",
      "Searching for \"bitches broken hearts\" by Billie Eilish...\n",
      "Done.\n",
      "Searching for \"come out and play\" by Billie Eilish...\n",
      "Done.\n",
      "Searching for \"&burn (with Vince Staples)\" by Billie Eilish...\n",
      "Done.\n",
      "Searching for \"COPYCAT\" by Billie Eilish...\n",
      "Done.\n",
      "Searching for \"bellyache\" by Billie Eilish...\n",
      "Done.\n",
      "Searching for \"hostage\" by Billie Eilish...\n",
      "Done.\n",
      "Searching for \"idontwannabeyouanymore\" by Billie Eilish...\n",
      "Done.\n",
      "Searching for \"my boy\" by Billie Eilish...\n",
      "Done.\n",
      "Searching for \"ocean eyes\" by Billie Eilish...\n",
      "Done.\n",
      "Searching for \"party favor\" by Billie Eilish...\n",
      "Done.\n",
      "Searching for \"watch\" by Billie Eilish...\n",
      "Done.\n",
      "Searching for \"lovely (with Khalid)\" by Billie Eilish...\n",
      "Done.\n",
      "Searching for \"&burn\" by Billie Eilish...\n",
      "Done.\n",
      "Searching for \"WHEN I WAS OLDER\" by Billie Eilish...\n",
      "Done.\n",
      "Searching for \"&burn\" by Billie Eilish...\n",
      "Done.\n",
      "Searching for \"lovely\" by Billie Eilish...\n",
      "Done.\n"
     ]
    }
   ],
   "source": [
    "billie_lyrics = get_song_lyric_list(\"Billie Eilish\", billie_df_final['song_name'])\n",
    "billie_lyrics[0] = genius.search_song('&burn','Billie Eilish').lyrics\n",
    "billie_lyrics[5] = genius.search_song('WHEN I WAS OLDER','Billie Eilish').lyrics\n",
    "billie_lyrics[22] = genius.search_song('&burn','Billie Eilish').lyrics\n",
    "billie_lyrics[31] = genius.search_song('lovely', 'Billie Eilish').lyrics"
   ]
  },
  {
   "cell_type": "code",
   "execution_count": 359,
   "metadata": {
    "collapsed": true
   },
   "outputs": [],
   "source": [
    "billie_polarity = polarity_ratio_list(billie_lyrics)\n",
    "billie_df_final['lyric'] = billie_lyrics\n",
    "billie_df_final['Prop_of_neg_lines'] = billie_polarity\n",
    "billie_df_final['sad_score'] = (1-billie_df_final['valence'] + billie_df_final['Prop_of_neg_lines'])/2"
   ]
  },
  {
   "cell_type": "code",
   "execution_count": 361,
   "metadata": {},
   "outputs": [
    {
     "data": {
      "text/plain": [
       "0.4731979090674508"
      ]
     },
     "execution_count": 361,
     "metadata": {},
     "output_type": "execute_result"
    }
   ],
   "source": [
    "billie_df_final['sad_score'].mean()"
   ]
  },
  {
   "cell_type": "code",
   "execution_count": 362,
   "metadata": {},
   "outputs": [
    {
     "data": {
      "text/plain": [
       "0.4260942032818021"
      ]
     },
     "execution_count": 362,
     "metadata": {},
     "output_type": "execute_result"
    }
   ],
   "source": [
    "joji_df['sad_score'].mean()"
   ]
  },
  {
   "cell_type": "code",
   "execution_count": 363,
   "metadata": {},
   "outputs": [
    {
     "data": {
      "text/plain": [
       "0.35389510632185484"
      ]
     },
     "execution_count": 363,
     "metadata": {},
     "output_type": "execute_result"
    }
   ],
   "source": [
    "jeremy_df_final['sad_score'].mean()"
   ]
  },
  {
   "cell_type": "code",
   "execution_count": 367,
   "metadata": {
    "collapsed": true
   },
   "outputs": [],
   "source": [
    "jj_uri = get_artist_uri(\"Jack Johnson\")\n",
    "jj_album_list = get_artist_album_list(jj_uri)\n",
    "jj_song_list = get_artist_song_list(jj_album_list)\n",
    "jj_df = getSongFeatures(jj_song_list)"
   ]
  },
  {
   "cell_type": "code",
   "execution_count": 371,
   "metadata": {},
   "outputs": [
    {
     "name": "stdout",
     "output_type": "stream",
     "text": [
      "Searching for \"Better Together\" by Jack Johnson...\n",
      "Done.\n",
      "Searching for \"Never Know\" by Jack Johnson...\n",
      "Done.\n",
      "Searching for \"Banana Pancakes\" by Jack Johnson...\n",
      "Done.\n",
      "Searching for \"Good People\" by Jack Johnson...\n",
      "Done.\n",
      "Searching for \"No Other Way\" by Jack Johnson...\n",
      "Done.\n",
      "Searching for \"Sitting, Waiting, Wishing\" by Jack Johnson...\n",
      "Done.\n",
      "Searching for \"Staple It Together\" by Jack Johnson...\n",
      "Done.\n",
      "Searching for \"Situations\" by Jack Johnson...\n",
      "Done.\n",
      "Searching for \"Crying Shame\" by Jack Johnson...\n",
      "Done.\n",
      "Searching for \"If I Could\" by Jack Johnson...\n",
      "Done.\n",
      "Searching for \"Breakdown\" by Jack Johnson...\n",
      "Done.\n",
      "Searching for \"Belle\" by Jack Johnson...\n",
      "Done.\n",
      "Searching for \"Do You Remember\" by Jack Johnson...\n",
      "Done.\n",
      "Searching for \"Constellations\" by Jack Johnson...\n",
      "Done.\n",
      "Searching for \"Mudfootball - Live\" by Jack Johnson...\n",
      "Done.\n",
      "Searching for \"Better Together\" by Jack Johnson...\n",
      "Done.\n",
      "Searching for \"Never Know\" by Jack Johnson...\n",
      "Done.\n",
      "Searching for \"Banana Pancakes\" by Jack Johnson...\n",
      "Done.\n",
      "Searching for \"Good People\" by Jack Johnson...\n",
      "Done.\n",
      "Searching for \"No Other Way\" by Jack Johnson...\n",
      "Done.\n",
      "Searching for \"Sitting, Waiting, Wishing\" by Jack Johnson...\n",
      "Done.\n",
      "Searching for \"Staple It Together\" by Jack Johnson...\n",
      "Done.\n",
      "Searching for \"Situations\" by Jack Johnson...\n",
      "Done.\n",
      "Searching for \"Crying Shame\" by Jack Johnson...\n",
      "Done.\n",
      "Searching for \"If I Could\" by Jack Johnson...\n",
      "Done.\n",
      "Searching for \"Breakdown\" by Jack Johnson...\n",
      "Done.\n",
      "Searching for \"Belle\" by Jack Johnson...\n",
      "Done.\n",
      "Searching for \"Do You Remember\" by Jack Johnson...\n",
      "Done.\n",
      "Searching for \"Constellations\" by Jack Johnson...\n",
      "Done.\n",
      "Searching for \"Constellations - Demo Version\" by Jack Johnson...\n",
      "Done.\n",
      "Searching for \"Better Together\" by Jack Johnson...\n",
      "Done.\n",
      "Searching for \"Never Know\" by Jack Johnson...\n",
      "Done.\n",
      "Searching for \"Banana Pancakes\" by Jack Johnson...\n",
      "Done.\n",
      "Searching for \"Good People\" by Jack Johnson...\n",
      "Done.\n",
      "Searching for \"No Other Way\" by Jack Johnson...\n",
      "Done.\n",
      "Searching for \"Sitting, Waiting, Wishing\" by Jack Johnson...\n",
      "Done.\n",
      "Searching for \"Staple It Together\" by Jack Johnson...\n",
      "Done.\n",
      "Searching for \"Situations\" by Jack Johnson...\n",
      "Done.\n",
      "Searching for \"Crying Shame\" by Jack Johnson...\n",
      "Done.\n",
      "Searching for \"If I Could\" by Jack Johnson...\n",
      "Done.\n",
      "Searching for \"Breakdown\" by Jack Johnson...\n",
      "Done.\n",
      "Searching for \"Belle\" by Jack Johnson...\n",
      "Done.\n",
      "Searching for \"Do You Remember\" by Jack Johnson...\n",
      "Done.\n",
      "Searching for \"Constellations\" by Jack Johnson...\n",
      "Done.\n"
     ]
    }
   ],
   "source": [
    "jj_df = jj_df.loc[jj_df['album_name'] == 'In Between Dreams']\n",
    "jj_lyrics = get_song_lyric_list(\"Jack Johnson\", jj_df['song_name'])"
   ]
  },
  {
   "cell_type": "code",
   "execution_count": 377,
   "metadata": {
    "collapsed": true
   },
   "outputs": [],
   "source": [
    "jj_df_grouped = jj_df.groupby(by = ['album_name', 'song_name'])['valence'].min().reset_index()\n",
    "jj_columns = jj_df[['album_name','valence','song_name','song_uri']]\n",
    "jj_df_final = pd.merge(jj_df_grouped, jj_columns, on = ['album_name','song_name','valence'], how = 'left')\n",
    "jj_df_final = jj_df_final.drop_duplicates(subset = ['album_name','song_name'], keep = \"first\")"
   ]
  },
  {
   "cell_type": "code",
   "execution_count": 380,
   "metadata": {},
   "outputs": [
    {
     "name": "stdout",
     "output_type": "stream",
     "text": [
      "Searching for \"Banana Pancakes\" by Jack Johnson...\n",
      "Done.\n",
      "Searching for \"Belle\" by Jack Johnson...\n",
      "Done.\n",
      "Searching for \"Better Together\" by Jack Johnson...\n",
      "Done.\n",
      "Searching for \"Breakdown\" by Jack Johnson...\n",
      "Done.\n",
      "Searching for \"Constellations\" by Jack Johnson...\n",
      "Done.\n",
      "Searching for \"Constellations - Demo Version\" by Jack Johnson...\n",
      "Done.\n",
      "Searching for \"Crying Shame\" by Jack Johnson...\n",
      "Done.\n",
      "Searching for \"Do You Remember\" by Jack Johnson...\n",
      "Done.\n",
      "Searching for \"Good People\" by Jack Johnson...\n",
      "Done.\n",
      "Searching for \"If I Could\" by Jack Johnson...\n",
      "Done.\n",
      "Searching for \"Mudfootball - Live\" by Jack Johnson...\n",
      "Done.\n",
      "Searching for \"Never Know\" by Jack Johnson...\n",
      "Done.\n",
      "Searching for \"No Other Way\" by Jack Johnson...\n",
      "Done.\n",
      "Searching for \"Sitting, Waiting, Wishing\" by Jack Johnson...\n",
      "Done.\n",
      "Searching for \"Situations\" by Jack Johnson...\n",
      "Done.\n",
      "Searching for \"Staple It Together\" by Jack Johnson...\n",
      "Done.\n"
     ]
    }
   ],
   "source": [
    "jj_lyrics = get_song_lyric_list(\"Jack Johnson\", jj_df_final['song_name'])\n",
    "jj_polarity = polarity_ratio_list(jj_lyrics)"
   ]
  },
  {
   "cell_type": "code",
   "execution_count": 384,
   "metadata": {
    "collapsed": true
   },
   "outputs": [],
   "source": [
    "jj_df_final['lyric'] = jj_lyrics\n",
    "jj_df_final['Prop_of_neg_lines'] = jj_polarity\n",
    "jj_df_final['sad_score'] = (1-jj_df_final['valence'] + jj_df_final['Prop_of_neg_lines'])/2"
   ]
  },
  {
   "cell_type": "code",
   "execution_count": 404,
   "metadata": {
    "collapsed": true
   },
   "outputs": [],
   "source": [
    "kkb_uri = get_artist_uri(\"Kero Kero Bonito\")\n",
    "kkb_album_list = get_artist_album_list(kkb_uri)\n",
    "kkb_song_list = get_artist_song_list(kkb_album_list)\n",
    "kkb_df = getSongFeatures(kkb_song_list)"
   ]
  },
  {
   "cell_type": "code",
   "execution_count": 412,
   "metadata": {
    "collapsed": true
   },
   "outputs": [],
   "source": [
    "kkb_df = kkb_df.loc[~kkb_df['song_name'].str.contains('emix')]\n",
    "kkb_df_grouped = kkb_df.groupby(by = ['song_name', 'album_name'])['valence'].min().reset_index()\n",
    "kkb_df_columns = kkb_df[['song_name','album_name','valence','song_uri']]\n",
    "kkb_df_final = pd.merge(kkb_df_grouped, kkb_df_columns, on = ['song_name','album_name','valence'], how = \"left\")\n",
    "kkb_df_final = kkb_df_final.drop_duplicates(subset = ['song_name'], keep = \"first\")"
   ]
  },
  {
   "cell_type": "code",
   "execution_count": 414,
   "metadata": {},
   "outputs": [
    {
     "name": "stdout",
     "output_type": "stream",
     "text": [
      "Searching for \"Babies (Are so Strange)\" by Kero Kero Bonito...\n",
      "Done.\n",
      "Searching for \"Big City\" by Kero Kero Bonito...\n",
      "Done.\n",
      "Searching for \"Bonito Intro\" by Kero Kero Bonito...\n",
      "Done.\n",
      "Searching for \"Bonito Jingle\" by Kero Kero Bonito...\n",
      "Done.\n",
      "Searching for \"Break\" by Kero Kero Bonito...\n",
      "Done.\n",
      "Searching for \"Cat Vs Dog - English Version\" by Kero Kero Bonito...\n",
      "No results found for: 'Cat Vs Dog - English Version Kero Kero Bonito'\n",
      "Searching for \"Cat Vs Dog - Japanese Version\" by Kero Kero Bonito...\n",
      "Done.\n",
      "Searching for \"Cinema\" by Kero Kero Bonito...\n",
      "Done.\n",
      "Searching for \"Dear Future Self\" by Kero Kero Bonito...\n",
      "Done.\n",
      "Searching for \"Dump\" by Kero Kero Bonito...\n",
      "Done.\n",
      "Searching for \"Fish Bowl\" by Kero Kero Bonito...\n",
      "Done.\n",
      "Searching for \"Flyway\" by Kero Kero Bonito...\n",
      "Done.\n",
      "Searching for \"Forever Summer Holiday\" by Kero Kero Bonito...\n",
      "Done.\n",
      "Searching for \"Graduation\" by Kero Kero Bonito...\n",
      "Done.\n",
      "Searching for \"Heard a Song\" by Kero Kero Bonito...\n",
      "Done.\n",
      "Searching for \"Hey Parents\" by Kero Kero Bonito...\n",
      "Done.\n",
      "Searching for \"Homework\" by Kero Kero Bonito...\n",
      "Done.\n",
      "Searching for \"I'd Rather Sleep\" by Kero Kero Bonito...\n",
      "Done.\n",
      "Searching for \"If I'd Known\" by Kero Kero Bonito...\n",
      "Done.\n",
      "Searching for \"Intro Bonito\" by Kero Kero Bonito...\n",
      "Done.\n",
      "Searching for \"Kero Kero Bonito\" by Kero Kero Bonito...\n",
      "Done.\n",
      "Searching for \"Let's Go to the Forest\" by Kero Kero Bonito...\n",
      "Done.\n",
      "Searching for \"Lipslap\" by Kero Kero Bonito...\n",
      "Done.\n",
      "Searching for \"Make Believe\" by Kero Kero Bonito...\n",
      "Done.\n",
      "Searching for \"My Party\" by Kero Kero Bonito...\n",
      "Done.\n",
      "Searching for \"Only Acting\" by Kero Kero Bonito...\n",
      "Done.\n",
      "Searching for \"Only Acting - Radio Edit\" by Kero Kero Bonito...\n",
      "Done.\n",
      "Searching for \"Outside\" by Kero Kero Bonito...\n",
      "Done.\n",
      "Searching for \"Paintbrush\" by Kero Kero Bonito...\n",
      "Done.\n",
      "Searching for \"Park Song\" by Kero Kero Bonito...\n",
      "Done.\n",
      "Searching for \"Picture This\" by Kero Kero Bonito...\n",
      "Done.\n",
      "Searching for \"Pocket Crocodile\" by Kero Kero Bonito...\n",
      "Done.\n",
      "Searching for \"Rest Stop\" by Kero Kero Bonito...\n",
      "Done.\n",
      "Searching for \"Rock n Roll Star\" by Kero Kero Bonito...\n",
      "Done.\n",
      "Searching for \"Sick Beat\" by Kero Kero Bonito...\n",
      "Done.\n",
      "Searching for \"Small Town\" by Kero Kero Bonito...\n",
      "Done.\n",
      "Searching for \"Sometimes\" by Kero Kero Bonito...\n",
      "Done.\n",
      "Searching for \"Swimming\" by Kero Kero Bonito...\n",
      "Done.\n",
      "Searching for \"The One True Path\" by Kero Kero Bonito...\n",
      "Done.\n",
      "Searching for \"The Open Road\" by Kero Kero Bonito...\n",
      "Done.\n",
      "Searching for \"Time Today\" by Kero Kero Bonito...\n",
      "Done.\n",
      "Searching for \"Trampoline\" by Kero Kero Bonito...\n",
      "Done.\n",
      "Searching for \"Try Me\" by Kero Kero Bonito...\n",
      "Done.\n",
      "Searching for \"Visiting Hours\" by Kero Kero Bonito...\n",
      "Done.\n",
      "Searching for \"Waking Up\" by Kero Kero Bonito...\n",
      "Done.\n",
      "Searching for \"World Tour 2018\" by Kero Kero Bonito...\n",
      "Done.\n",
      "Searching for \"You Know How It Is\" by Kero Kero Bonito...\n",
      "Done.\n"
     ]
    }
   ],
   "source": [
    "kkb_lyrics = get_song_lyric_list(\"Kero Kero Bonito\", kkb_df_final['song_name'])"
   ]
  },
  {
   "cell_type": "code",
   "execution_count": 420,
   "metadata": {
    "collapsed": true
   },
   "outputs": [],
   "source": [
    "kkb_df_final['lyric'] = kkb_lyrics\n",
    "kkb_df_final['Prop_of_neg_lines'] = kkb_polarity\n",
    "kkb_df_final['sad_score'] = (1-kkb_df_final['valence'] + kkb_df_final['Prop_of_neg_lines'])/2"
   ]
  },
  {
   "cell_type": "code",
   "execution_count": 435,
   "metadata": {
    "collapsed": true
   },
   "outputs": [],
   "source": [
    "excision_uri = get_artist_uri(\"Excision\")\n",
    "excision_albums = get_artist_album_list(excision_uri)\n",
    "excision_song_list = get_artist_song_list(excision_albums)\n",
    "excision_df = getSongFeatures(excision_song_list)"
   ]
  },
  {
   "cell_type": "code",
   "execution_count": 438,
   "metadata": {
    "collapsed": true
   },
   "outputs": [],
   "source": [
    "excision_df['test'] = 1- excision_df['valence']"
   ]
  },
  {
   "cell_type": "code",
   "execution_count": null,
   "metadata": {
    "collapsed": true
   },
   "outputs": [],
   "source": [
    "joji_df_final = pd.merge(joji_df_final, joji_df[['song_uri', 'valence', 'Prop_of_neg_lines','lyric']], \n",
    "                         on = 'song_uri', how = 'left' )"
   ]
  },
  {
   "cell_type": "code",
   "execution_count": 467,
   "metadata": {
    "collapsed": true
   },
   "outputs": [],
   "source": [
    "joji_df_final['artist'] = \"JOJI\"\n",
    "billie_df_final['artist'] = \"Billie Eilish\"\n",
    "kkb_df_final['artist'] = \"Kero Kero Bonito\"\n",
    "jeremy_df_final['artist'] = \"Jeremy Zucker\"\n",
    "jj_df_final['artist'] = \"Jack Johnson\""
   ]
  },
  {
   "cell_type": "code",
   "execution_count": 472,
   "metadata": {
    "collapsed": true
   },
   "outputs": [],
   "source": [
    "final_df = pd.concat([joji_df_final, kkb_df_final, billie_df_final, jeremy_df_final,jj_df_final])\n",
    "final_df['Prop_of_neg_lines'] = final_df['Prop_of_neg_lines'].astype('float64')\n",
    "final_df['album_name'] = final_df['album_name'].astype('str')\n",
    "final_df['lyric'] = final_df['lyric'].astype('str')\n",
    "final_df['sad_score'] = final_df['sad_score'].astype('float64')\n",
    "final_df['song_name'] = final_df['song_name'].astype('str')\n",
    "final_df['song_uri'] = final_df['song_uri'].astype('str')\n",
    "final_df['valence'] = final_df['valence'].astype('float64')"
   ]
  },
  {
   "cell_type": "code",
   "execution_count": 473,
   "metadata": {
    "collapsed": true
   },
   "outputs": [],
   "source": [
    "final_df.to_csv(\"MusicData.csv\", index = False)"
   ]
  },
  {
   "cell_type": "code",
   "execution_count": null,
   "metadata": {
    "collapsed": true
   },
   "outputs": [],
   "source": []
  }
 ],
 "metadata": {
  "kernelspec": {
   "display_name": "Python 3",
   "language": "python",
   "name": "python3"
  },
  "language_info": {
   "codemirror_mode": {
    "name": "ipython",
    "version": 3
   },
   "file_extension": ".py",
   "mimetype": "text/x-python",
   "name": "python",
   "nbconvert_exporter": "python",
   "pygments_lexer": "ipython3",
   "version": "3.6.1"
  }
 },
 "nbformat": 4,
 "nbformat_minor": 2
}
